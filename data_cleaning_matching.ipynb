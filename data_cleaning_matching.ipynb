{
 "cells": [
  {
   "cell_type": "code",
   "execution_count": 1,
   "metadata": {
    "collapsed": false
   },
   "outputs": [
    {
     "name": "stdout",
     "output_type": "stream",
     "text": [
      "Populating the interactive namespace from numpy and matplotlib\n"
     ]
    }
   ],
   "source": [
    "import pandas as pd\n",
    "import matplotlib.pyplot as plt\n",
    "import numpy as np\n",
    "import geopandas as gpd\n",
    "import csv\n",
    "import dateutil\n",
    "%pylab inline"
   ]
  },
  {
   "cell_type": "markdown",
   "metadata": {},
   "source": [
    "###Complaints Data (Manhattan, 2015)"
   ]
  },
  {
   "cell_type": "code",
   "execution_count": 2,
   "metadata": {
    "collapsed": true
   },
   "outputs": [],
   "source": [
    "complaints = pd.read_csv('Housing_Maintenance_Code_Complaints.csv', parse_dates=['ReceivedDate', 'StatusDate'])"
   ]
  },
  {
   "cell_type": "code",
   "execution_count": 3,
   "metadata": {
    "collapsed": false
   },
   "outputs": [],
   "source": [
    "complaints = complaints[complaints['BoroughID']==1]\n",
    "complaints['ReceivedYR'] = complaints['ReceivedDate'].map(lambda x: x.year)\n",
    "complaints_2015 =  complaints[complaints['ReceivedYR']==2015]"
   ]
  },
  {
   "cell_type": "markdown",
   "metadata": {},
   "source": [
    "###The complaints data of Manhattan, 2015 are _\"88,118\"_"
   ]
  },
  {
   "cell_type": "code",
   "execution_count": 4,
   "metadata": {
    "collapsed": false
   },
   "outputs": [
    {
     "name": "stdout",
     "output_type": "stream",
     "text": [
      "88118\n",
      "ComplaintID                int64\n",
      "BuildingID                 int64\n",
      "BoroughID                  int64\n",
      "Borough                   object\n",
      "HouseNumber               object\n",
      "StreetName                object\n",
      "Zip                      float64\n",
      "Block                      int64\n",
      "Lot                        int64\n",
      "Apartment                 object\n",
      "CommunityBoard             int64\n",
      "ReceivedDate      datetime64[ns]\n",
      "StatusID                   int64\n",
      "Status                    object\n",
      "StatusDate        datetime64[ns]\n",
      "ReceivedYR                 int64\n",
      "dtype: object\n"
     ]
    }
   ],
   "source": [
    "print len(complaints_2015)\n",
    "print complaints_2015.dtypes"
   ]
  },
  {
   "cell_type": "code",
   "execution_count": 5,
   "metadata": {
    "collapsed": false
   },
   "outputs": [],
   "source": [
    "#complaints_2015.sort(['ReceivedDate'])[:3]"
   ]
  },
  {
   "cell_type": "markdown",
   "metadata": {},
   "source": [
    "### New columns ['BBL', 'Full_Address'] to match data in building level or BBL level\n",
    "__LOGIC__\n",
    "* BBL = BoroughID + Block + Lot\n",
    "* Full_Address = HouseNumber + StreeName + 'New York, NY' + Zip\n",
    "\n",
    "#Don't worry about the python warning (red box) which is just copy and paste columns issue. "
   ]
  },
  {
   "cell_type": "code",
   "execution_count": 6,
   "metadata": {
    "collapsed": false
   },
   "outputs": [
    {
     "name": "stderr",
     "output_type": "stream",
     "text": [
      "C:\\Users\\Boyeong\\Anaconda\\lib\\site-packages\\IPython\\kernel\\__main__.py:2: SettingWithCopyWarning: \n",
      "A value is trying to be set on a copy of a slice from a DataFrame.\n",
      "Try using .loc[row_indexer,col_indexer] = value instead\n",
      "\n",
      "See the the caveats in the documentation: http://pandas.pydata.org/pandas-docs/stable/indexing.html#indexing-view-versus-copy\n",
      "  from IPython.kernel.zmq import kernelapp as app\n",
      "C:\\Users\\Boyeong\\Anaconda\\lib\\site-packages\\IPython\\kernel\\__main__.py:3: SettingWithCopyWarning: \n",
      "A value is trying to be set on a copy of a slice from a DataFrame.\n",
      "Try using .loc[row_indexer,col_indexer] = value instead\n",
      "\n",
      "See the the caveats in the documentation: http://pandas.pydata.org/pandas-docs/stable/indexing.html#indexing-view-versus-copy\n",
      "  app.launch_new_instance()\n",
      "C:\\Users\\Boyeong\\Anaconda\\lib\\site-packages\\IPython\\kernel\\__main__.py:4: SettingWithCopyWarning: \n",
      "A value is trying to be set on a copy of a slice from a DataFrame.\n",
      "Try using .loc[row_indexer,col_indexer] = value instead\n",
      "\n",
      "See the the caveats in the documentation: http://pandas.pydata.org/pandas-docs/stable/indexing.html#indexing-view-versus-copy\n",
      "C:\\Users\\Boyeong\\Anaconda\\lib\\site-packages\\IPython\\kernel\\__main__.py:5: SettingWithCopyWarning: \n",
      "A value is trying to be set on a copy of a slice from a DataFrame.\n",
      "Try using .loc[row_indexer,col_indexer] = value instead\n",
      "\n",
      "See the the caveats in the documentation: http://pandas.pydata.org/pandas-docs/stable/indexing.html#indexing-view-versus-copy\n",
      "C:\\Users\\Boyeong\\Anaconda\\lib\\site-packages\\IPython\\kernel\\__main__.py:6: SettingWithCopyWarning: \n",
      "A value is trying to be set on a copy of a slice from a DataFrame.\n",
      "Try using .loc[row_indexer,col_indexer] = value instead\n",
      "\n",
      "See the the caveats in the documentation: http://pandas.pydata.org/pandas-docs/stable/indexing.html#indexing-view-versus-copy\n",
      "C:\\Users\\Boyeong\\Anaconda\\lib\\site-packages\\IPython\\kernel\\__main__.py:9: SettingWithCopyWarning: \n",
      "A value is trying to be set on a copy of a slice from a DataFrame.\n",
      "Try using .loc[row_indexer,col_indexer] = value instead\n",
      "\n",
      "See the the caveats in the documentation: http://pandas.pydata.org/pandas-docs/stable/indexing.html#indexing-view-versus-copy\n",
      "C:\\Users\\Boyeong\\Anaconda\\lib\\site-packages\\IPython\\kernel\\__main__.py:10: SettingWithCopyWarning: \n",
      "A value is trying to be set on a copy of a slice from a DataFrame.\n",
      "Try using .loc[row_indexer,col_indexer] = value instead\n",
      "\n",
      "See the the caveats in the documentation: http://pandas.pydata.org/pandas-docs/stable/indexing.html#indexing-view-versus-copy\n",
      "C:\\Users\\Boyeong\\Anaconda\\lib\\site-packages\\IPython\\kernel\\__main__.py:13: SettingWithCopyWarning: \n",
      "A value is trying to be set on a copy of a slice from a DataFrame.\n",
      "Try using .loc[row_indexer,col_indexer] = value instead\n",
      "\n",
      "See the the caveats in the documentation: http://pandas.pydata.org/pandas-docs/stable/indexing.html#indexing-view-versus-copy\n",
      "C:\\Users\\Boyeong\\Anaconda\\lib\\site-packages\\IPython\\kernel\\__main__.py:14: SettingWithCopyWarning: \n",
      "A value is trying to be set on a copy of a slice from a DataFrame.\n",
      "Try using .loc[row_indexer,col_indexer] = value instead\n",
      "\n",
      "See the the caveats in the documentation: http://pandas.pydata.org/pandas-docs/stable/indexing.html#indexing-view-versus-copy\n"
     ]
    }
   ],
   "source": [
    "#Covert dtype int to str\n",
    "complaints_2015['BoroughID'] = complaints_2015['BoroughID'].astype(str)\n",
    "complaints_2015['Block'] = complaints_2015['Block'].astype(str)\n",
    "complaints_2015['Lot'] = complaints_2015['Lot'].astype(str)\n",
    "complaints_2015['Zip'] = complaints_2015['Zip'].astype(str)\n",
    "complaints_2015['Zip'] = complaints_2015['Zip'].map(lambda x: str(x)[0:5])\n",
    "\n",
    "#Add leading zeros to the Block and Lot (to make 10 digits BBL)\n",
    "complaints_2015['Block'] = complaints_2015['Block'].apply(lambda x: x.zfill(5))\n",
    "complaints_2015['Lot'] = complaints_2015['Lot'].apply(lambda x: x.zfill(4))\n",
    "\n",
    "#Combime columns \n",
    "complaints_2015['BBL'] = complaints_2015['BoroughID'] + complaints_2015['Block'] + complaints_2015['Lot']\n",
    "complaints_2015['Full_Address'] = complaints_2015['HouseNumber'] + ' ' + complaints_2015['StreetName'] + ' New York, NY ' + complaints_2015['Zip']"
   ]
  },
  {
   "cell_type": "code",
   "execution_count": 7,
   "metadata": {
    "collapsed": false
   },
   "outputs": [
    {
     "name": "stdout",
     "output_type": "stream",
     "text": [
      "174927                    442 2 AVENUE New York, NY 10010\n",
      "174928    2155 ADAM C POWELL BOULEVARD New York, NY 10027\n",
      "174929           1528 AMSTERDAM AVENUE New York, NY 10031\n",
      "Name: Full_Address, dtype: object\n"
     ]
    }
   ],
   "source": [
    "print complaints_2015.Full_Address[:3]"
   ]
  },
  {
   "cell_type": "markdown",
   "metadata": {},
   "source": [
    "###Geocoding for address matching in Bldg level (daily limitation --> will figure out)"
   ]
  },
  {
   "cell_type": "code",
   "execution_count": 8,
   "metadata": {
    "collapsed": false
   },
   "outputs": [],
   "source": [
    "#import geocoder\n",
    "\n",
    "# Function to send address to geo-encode from Google API\n",
    "#def geoencode(address):\n",
    "    #g = geocoder.google(address) # ex. 30-27 Greenpoint Avenue LIC, NY\n",
    "    #loc = [g.lat, g.lng, g.geometry] # create a list\n",
    "    #return loc\n",
    "\n",
    "#address = []\n",
    "#lat = []\n",
    "#lng = []\n",
    "#geometry = []\n",
    "\n",
    "#for i in complaints_2015.Full_Address:\n",
    "    #g = geoencode(i) # call geoencode function\n",
    "    #address.append(i)\n",
    "    #lat.append(g[:1])\n",
    "    #lng.append(g[1:2])\n",
    "    #geometry.append(g[2:3])\n",
    "\n",
    "#print \"Finished Geocoding\"\n",
    "\n",
    "#Lat = pd.DataFrame(lat)\n",
    "#Lat.columns=['Lat']\n",
    "#Lon = pd.DataFrame(lng)\n",
    "#Lon.columns=['Lon']\n",
    "#Geometry = pd.DataFrame(geometry)\n",
    "#Geometry.columns=['Geometry']\n",
    "\n",
    "#complaints_2015 = pd.concat([complaints_2015, Lat, Lon, Geometry], axis=1)\n",
    "#result.to_csv('e_waste_dataset_recyclingfacilities_geocoding_nyc.csv')"
   ]
  },
  {
   "cell_type": "markdown",
   "metadata": {},
   "source": [
    "###Violations Data (Manhattan, 2015)"
   ]
  },
  {
   "cell_type": "code",
   "execution_count": 9,
   "metadata": {
    "collapsed": true
   },
   "outputs": [],
   "source": [
    "violations = pd.read_csv('Housing_Maintenance_Code_Violations.csv', parse_dates=['InspectionDate', 'ApprovedDate']) # violations"
   ]
  },
  {
   "cell_type": "code",
   "execution_count": 10,
   "metadata": {
    "collapsed": true
   },
   "outputs": [],
   "source": [
    "violations = violations[violations['BoroID']==1]\n",
    "violations['InspectionYR'] = violations['InspectionDate'].map(lambda x: x.year)\n",
    "violations_2015 =  violations[violations['InspectionYR']==2015]"
   ]
  },
  {
   "cell_type": "markdown",
   "metadata": {},
   "source": [
    "###The violations data of Manhattan, 2015 are _\"112,574\"_\n",
    "### !!! violations - complaints = 112,574 - 88,118 = 24,456"
   ]
  },
  {
   "cell_type": "code",
   "execution_count": 11,
   "metadata": {
    "collapsed": false
   },
   "outputs": [
    {
     "name": "stdout",
     "output_type": "stream",
     "text": [
      "112574\n",
      "ViolationID                       int64\n",
      "BuildingID                        int64\n",
      "RegistrationID                    int64\n",
      "BoroID                            int64\n",
      "Boro                             object\n",
      "HouseNumber                      object\n",
      "LowHouseNumber                   object\n",
      "HighHouseNumber                  object\n",
      "StreetName                       object\n",
      "StreetCode                        int64\n",
      "Zip                             float64\n",
      "Apartment                        object\n",
      "Story                            object\n",
      "Block                             int64\n",
      "Lot                               int64\n",
      "Class                            object\n",
      "InspectionDate           datetime64[ns]\n",
      "ApprovedDate             datetime64[ns]\n",
      "OriginalCertifyByDate            object\n",
      "OriginalCorrectByDate            object\n",
      "NewCertifyByDate                 object\n",
      "NewCorrectByDate                 object\n",
      "CertifiedDate                    object\n",
      "OrderNumber                       int64\n",
      "NOVID                           float64\n",
      "NOVDescription                   object\n",
      "NOVIssuedDate                    object\n",
      "CurrentStatusID                   int64\n",
      "CurrentStatus                    object\n",
      "CurrentStatusDate                object\n",
      "InspectionYR                      int64\n",
      "dtype: object\n"
     ]
    }
   ],
   "source": [
    "print len(violations_2015)\n",
    "print violations_2015.dtypes"
   ]
  },
  {
   "cell_type": "markdown",
   "metadata": {},
   "source": [
    "### New columns ['BBL', 'Full_Address'] to match data in building level or BBL level\n",
    "__LOGIC__\n",
    "* BBL = BoroID + Block + Lot\n",
    "* Full_Address = HouseNumber + StreeName + 'New York, NY' + Zip\n",
    "\n",
    "#Don't worry about the python warning (red box) which is just copy and paste columns issue. "
   ]
  },
  {
   "cell_type": "code",
   "execution_count": 12,
   "metadata": {
    "collapsed": false
   },
   "outputs": [
    {
     "name": "stderr",
     "output_type": "stream",
     "text": [
      "C:\\Users\\Boyeong\\Anaconda\\lib\\site-packages\\IPython\\kernel\\__main__.py:2: SettingWithCopyWarning: \n",
      "A value is trying to be set on a copy of a slice from a DataFrame.\n",
      "Try using .loc[row_indexer,col_indexer] = value instead\n",
      "\n",
      "See the the caveats in the documentation: http://pandas.pydata.org/pandas-docs/stable/indexing.html#indexing-view-versus-copy\n",
      "  from IPython.kernel.zmq import kernelapp as app\n",
      "C:\\Users\\Boyeong\\Anaconda\\lib\\site-packages\\IPython\\kernel\\__main__.py:3: SettingWithCopyWarning: \n",
      "A value is trying to be set on a copy of a slice from a DataFrame.\n",
      "Try using .loc[row_indexer,col_indexer] = value instead\n",
      "\n",
      "See the the caveats in the documentation: http://pandas.pydata.org/pandas-docs/stable/indexing.html#indexing-view-versus-copy\n",
      "  app.launch_new_instance()\n",
      "C:\\Users\\Boyeong\\Anaconda\\lib\\site-packages\\IPython\\kernel\\__main__.py:4: SettingWithCopyWarning: \n",
      "A value is trying to be set on a copy of a slice from a DataFrame.\n",
      "Try using .loc[row_indexer,col_indexer] = value instead\n",
      "\n",
      "See the the caveats in the documentation: http://pandas.pydata.org/pandas-docs/stable/indexing.html#indexing-view-versus-copy\n",
      "C:\\Users\\Boyeong\\Anaconda\\lib\\site-packages\\IPython\\kernel\\__main__.py:5: SettingWithCopyWarning: \n",
      "A value is trying to be set on a copy of a slice from a DataFrame.\n",
      "Try using .loc[row_indexer,col_indexer] = value instead\n",
      "\n",
      "See the the caveats in the documentation: http://pandas.pydata.org/pandas-docs/stable/indexing.html#indexing-view-versus-copy\n",
      "C:\\Users\\Boyeong\\Anaconda\\lib\\site-packages\\IPython\\kernel\\__main__.py:6: SettingWithCopyWarning: \n",
      "A value is trying to be set on a copy of a slice from a DataFrame.\n",
      "Try using .loc[row_indexer,col_indexer] = value instead\n",
      "\n",
      "See the the caveats in the documentation: http://pandas.pydata.org/pandas-docs/stable/indexing.html#indexing-view-versus-copy\n",
      "C:\\Users\\Boyeong\\Anaconda\\lib\\site-packages\\IPython\\kernel\\__main__.py:9: SettingWithCopyWarning: \n",
      "A value is trying to be set on a copy of a slice from a DataFrame.\n",
      "Try using .loc[row_indexer,col_indexer] = value instead\n",
      "\n",
      "See the the caveats in the documentation: http://pandas.pydata.org/pandas-docs/stable/indexing.html#indexing-view-versus-copy\n",
      "C:\\Users\\Boyeong\\Anaconda\\lib\\site-packages\\IPython\\kernel\\__main__.py:10: SettingWithCopyWarning: \n",
      "A value is trying to be set on a copy of a slice from a DataFrame.\n",
      "Try using .loc[row_indexer,col_indexer] = value instead\n",
      "\n",
      "See the the caveats in the documentation: http://pandas.pydata.org/pandas-docs/stable/indexing.html#indexing-view-versus-copy\n",
      "C:\\Users\\Boyeong\\Anaconda\\lib\\site-packages\\IPython\\kernel\\__main__.py:13: SettingWithCopyWarning: \n",
      "A value is trying to be set on a copy of a slice from a DataFrame.\n",
      "Try using .loc[row_indexer,col_indexer] = value instead\n",
      "\n",
      "See the the caveats in the documentation: http://pandas.pydata.org/pandas-docs/stable/indexing.html#indexing-view-versus-copy\n",
      "C:\\Users\\Boyeong\\Anaconda\\lib\\site-packages\\IPython\\kernel\\__main__.py:14: SettingWithCopyWarning: \n",
      "A value is trying to be set on a copy of a slice from a DataFrame.\n",
      "Try using .loc[row_indexer,col_indexer] = value instead\n",
      "\n",
      "See the the caveats in the documentation: http://pandas.pydata.org/pandas-docs/stable/indexing.html#indexing-view-versus-copy\n"
     ]
    }
   ],
   "source": [
    "#Covert dtype int to str\n",
    "violations_2015['BoroID'] = violations_2015['BoroID'].astype(str)\n",
    "violations_2015['Block'] = violations_2015['Block'].astype(str)\n",
    "violations_2015['Lot'] = violations_2015['Lot'].astype(str)\n",
    "violations_2015['Zip'] = violations_2015['Zip'].astype(str)\n",
    "violations_2015['Zip'] = violations_2015['Zip'].map(lambda x: str(x)[0:5])\n",
    "\n",
    "#Add leading zeros to the Block and Lot (to make 10 digits BBL)\n",
    "violations_2015['Block'] = violations_2015['Block'].apply(lambda x: x.zfill(5))\n",
    "violations_2015['Lot'] = violations_2015['Lot'].apply(lambda x: x.zfill(4))\n",
    "\n",
    "#Combime columns \n",
    "violations_2015['BBL'] = violations_2015['BoroID'] + violations_2015['Block'] + violations_2015['Lot']\n",
    "violations_2015['Full_Address'] = violations_2015['HouseNumber'] + ' ' + violations_2015['StreetName'] + ' New York, NY ' + violations_2015['Zip']"
   ]
  },
  {
   "cell_type": "code",
   "execution_count": 13,
   "metadata": {
    "collapsed": false
   },
   "outputs": [
    {
     "name": "stdout",
     "output_type": "stream",
     "text": [
      "        ViolationID  BuildingID  RegistrationID BoroID       Boro HouseNumber  \\\n",
      "393664     10506902          14          115401      1  MANHATTAN        1058   \n",
      "393665     10506854          14          115401      1  MANHATTAN        1058   \n",
      "393666     10506855          14          115401      1  MANHATTAN        1058   \n",
      "\n",
      "       LowHouseNumber HighHouseNumber StreetName  StreetCode  \\\n",
      "393664           1058            1064   1 AVENUE       10010   \n",
      "393665           1058            1064   1 AVENUE       10010   \n",
      "393666           1058            1064   1 AVENUE       10010   \n",
      "\n",
      "                      ...                OrderNumber    NOVID  \\\n",
      "393664                ...                        617  4983871   \n",
      "393665                ...                        702  4983870   \n",
      "393666                ...                       1503  4983870   \n",
      "\n",
      "                                           NOVDescription NOVIssuedDate  \\\n",
      "393664  Â§ 27-2056.6 ADM CODE - CORRECT THE LEAD-BASED...    01/15/2015   \n",
      "393665  Â§ 27-2045 ADM CODE REPAIR OR REPLACE THE SMOK...    01/15/2015   \n",
      "393666  Â§ 27-2046.1 HMC: REPAIR OR REPLACE THE CARBON...    01/15/2015   \n",
      "\n",
      "       CurrentStatusID         CurrentStatus CurrentStatusDate InspectionYR  \\\n",
      "393664              20  DEFECT LETTER ISSUED        02/25/2015         2015   \n",
      "393665              19      VIOLATION CLOSED        02/25/2015         2015   \n",
      "393666              19      VIOLATION CLOSED        02/25/2015         2015   \n",
      "\n",
      "               BBL                      Full_Address  \n",
      "393664  1013690045  1058 1 AVENUE New York, NY 10022  \n",
      "393665  1013690045  1058 1 AVENUE New York, NY 10022  \n",
      "393666  1013690045  1058 1 AVENUE New York, NY 10022  \n",
      "\n",
      "[3 rows x 33 columns]\n"
     ]
    }
   ],
   "source": [
    "print violations_2015[:3]"
   ]
  },
  {
   "cell_type": "code",
   "execution_count": 14,
   "metadata": {
    "collapsed": true
   },
   "outputs": [],
   "source": [
    "#save as csv (complaints)\n",
    "#complaints_2015.to_csv('complaints_2015.csv')"
   ]
  },
  {
   "cell_type": "code",
   "execution_count": 15,
   "metadata": {
    "collapsed": true
   },
   "outputs": [],
   "source": [
    "#save as csv (violations)\n",
    "#violations_2015.to_csv('violations_2015.csv')"
   ]
  },
  {
   "cell_type": "code",
   "execution_count": 16,
   "metadata": {
    "collapsed": false
   },
   "outputs": [
    {
     "name": "stdout",
     "output_type": "stream",
     "text": [
      "        ComplaintID  BuildingID BoroughID    Borough HouseNumber  \\\n",
      "222949      7185130       25378         1  MANHATTAN          58   \n",
      "206477      7184758       36448         1  MANHATTAN         166   \n",
      "212390      7184558       41291         1  MANHATTAN         142   \n",
      "209506      7184743       25378         1  MANHATTAN          58   \n",
      "182764      7185058        8077         1  MANHATTAN        3580   \n",
      "202040      7184525        5036         1  MANHATTAN        3854   \n",
      "182590      7184738       42077         1  MANHATTAN         543   \n",
      "176117      7185364       43644         1  MANHATTAN         558   \n",
      "190972      7185277       25742         1  MANHATTAN          70   \n",
      "217899      7184889        9749         1  MANHATTAN         380   \n",
      "\n",
      "                StreetName    Zip  Block   Lot Apartment  CommunityBoard  \\\n",
      "222949  MARBLE HILL AVENUE  10463  02215  0555      BLDG               8   \n",
      "206477      WEST 87 STREET  10024  01217  0057      BLDG               7   \n",
      "212390     WEST 139 STREET  10030  02007  0059        3C              10   \n",
      "209506  MARBLE HILL AVENUE  10463  02215  0555       B21               8   \n",
      "182764            BROADWAY  10031  02079  0001      BLDG               9   \n",
      "202040           10 AVENUE  10034  02219  0029      BLDG              12   \n",
      "182590     WEST 146 STREET  10031  02078  0011      BLDG               9   \n",
      "176117     WEST 193 STREET  10040  02161  0049      BLDG              12   \n",
      "190972         MOTT STREET  10013  00201  0008         3               3   \n",
      "217899     COLUMBUS AVENUE  10024  01150  0029      BLDG               7   \n",
      "\n",
      "       ReceivedDate  StatusID Status StatusDate  ReceivedYR         BBL  \\\n",
      "222949   2015-01-01         2  CLOSE 2015-01-03        2015  1022150555   \n",
      "206477   2015-01-01         2  CLOSE 2015-01-04        2015  1012170057   \n",
      "212390   2015-01-01         2  CLOSE 2015-01-07        2015  1020070059   \n",
      "209506   2015-01-01         2  CLOSE 2015-01-03        2015  1022150555   \n",
      "182764   2015-01-01         2  CLOSE 2015-01-01        2015  1020790001   \n",
      "202040   2015-01-01         2  CLOSE 2015-01-03        2015  1022190029   \n",
      "182590   2015-01-01         2  CLOSE 2015-01-03        2015  1020780011   \n",
      "176117   2015-01-01         2  CLOSE 2015-01-03        2015  1021610049   \n",
      "190972   2015-01-01         2  CLOSE 2015-01-05        2015  1002010008   \n",
      "217899   2015-01-01         2  CLOSE 2015-01-07        2015  1011500029   \n",
      "\n",
      "                                    Full_Address  \n",
      "222949  58 MARBLE HILL AVENUE New York, NY 10463  \n",
      "206477     166 WEST 87 STREET New York, NY 10024  \n",
      "212390    142 WEST 139 STREET New York, NY 10030  \n",
      "209506  58 MARBLE HILL AVENUE New York, NY 10463  \n",
      "182764          3580 BROADWAY New York, NY 10031  \n",
      "202040         3854 10 AVENUE New York, NY 10034  \n",
      "182590    543 WEST 146 STREET New York, NY 10031  \n",
      "176117    558 WEST 193 STREET New York, NY 10040  \n",
      "190972         70 MOTT STREET New York, NY 10013  \n",
      "217899    380 COLUMBUS AVENUE New York, NY 10024  \n"
     ]
    }
   ],
   "source": [
    "print complaints_2015.sort(['ReceivedDate'])[:10]"
   ]
  },
  {
   "cell_type": "markdown",
   "metadata": {},
   "source": [
    "### Just take an example '166 WEST 87 STREET New York, NY 10024'"
   ]
  },
  {
   "cell_type": "code",
   "execution_count": 17,
   "metadata": {
    "collapsed": false
   },
   "outputs": [
    {
     "name": "stdout",
     "output_type": "stream",
     "text": [
      "177538   2015-01-02\n",
      "180760   2015-01-02\n",
      "182051   2015-01-02\n",
      "184090   2015-01-01\n",
      "190575   2015-01-07\n",
      "194045   2015-01-01\n",
      "194994   2015-01-02\n",
      "197891   2015-01-02\n",
      "202922   2015-01-17\n",
      "206477   2015-01-01\n",
      "207383   2015-01-01\n",
      "212182   2015-01-01\n",
      "212905   2015-01-01\n",
      "213611   2015-01-06\n",
      "222076   2015-01-02\n",
      "223331   2015-01-20\n",
      "230521   2015-01-01\n",
      "235693   2015-02-13\n",
      "238425   2015-02-13\n",
      "246935   2015-02-14\n",
      "251911   2015-02-14\n",
      "253054   2015-02-28\n",
      "261458   2015-02-14\n",
      "265719   2015-02-01\n",
      "268025   2015-02-01\n",
      "287692   2015-02-28\n",
      "294979   2015-02-12\n",
      "302372   2015-03-13\n",
      "306320   2015-03-09\n",
      "307602   2015-03-09\n",
      "            ...    \n",
      "362671   2015-05-03\n",
      "375160   2015-06-17\n",
      "376460   2015-06-16\n",
      "378155   2015-06-27\n",
      "380253   2015-06-27\n",
      "381184   2015-06-01\n",
      "387450   2015-06-26\n",
      "388277   2015-07-14\n",
      "390257   2015-07-09\n",
      "403787   2015-07-10\n",
      "433094   2015-09-08\n",
      "435908   2015-09-30\n",
      "436614   2015-10-17\n",
      "438867   2015-10-17\n",
      "439289   2015-10-17\n",
      "442064   2015-10-19\n",
      "444469   2015-10-17\n",
      "455186   2015-10-17\n",
      "455880   2015-10-17\n",
      "457402   2015-10-17\n",
      "459033   2015-10-16\n",
      "466704   2015-10-17\n",
      "467939   2015-10-17\n",
      "467940   2015-10-17\n",
      "468249   2015-10-22\n",
      "471850   2015-10-16\n",
      "473092   2015-10-17\n",
      "480782   2015-11-16\n",
      "489356   2015-11-09\n",
      "531270   2015-12-14\n",
      "Name: ReceivedDate, dtype: datetime64[ns]\n",
      "\n",
      "\n",
      "400083    2015-01-20\n",
      "400084    2015-01-08\n",
      "400085    2015-01-08\n",
      "772778    2015-06-08\n",
      "834978    2015-07-29\n",
      "834979    2015-07-13\n",
      "834980    2015-07-13\n",
      "1026797   2015-10-30\n",
      "1026855   2015-10-09\n",
      "1185908   2015-12-14\n",
      "1185909   2015-12-14\n",
      "1185910   2015-12-21\n",
      "1185911   2015-12-14\n",
      "1185912   2015-12-14\n",
      "1185913   2015-12-14\n",
      "Name: InspectionDate, dtype: datetime64[ns]\n"
     ]
    }
   ],
   "source": [
    "print complaints_2015.ReceivedDate[complaints_2015['Full_Address']=='166 WEST 87 STREET New York, NY 10024']\n",
    "print '\\n'\n",
    "print violations_2015.InspectionDate[violations_2015['Full_Address']=='166 WEST 87 STREET New York, NY 10024']"
   ]
  },
  {
   "cell_type": "markdown",
   "metadata": {},
   "source": [
    "###Data group by same address to compare C vs. V (simle numeric gap)"
   ]
  },
  {
   "cell_type": "code",
   "execution_count": 18,
   "metadata": {
    "collapsed": false
   },
   "outputs": [],
   "source": [
    "#count of complaints and violations on same address (To compare the number of gap)\n",
    "c_a = complaints_2015['Full_Address'].value_counts().to_frame()\n",
    "v_a = violations_2015['Full_Address'].value_counts().to_frame()"
   ]
  },
  {
   "cell_type": "code",
   "execution_count": 19,
   "metadata": {
    "collapsed": false
   },
   "outputs": [
    {
     "name": "stdout",
     "output_type": "stream",
     "text": [
      "                                            Complaints\n",
      "34 ARDEN STREET New York, NY 10040                2167\n",
      "859 9 AVENUE New York, NY 10019                    453\n",
      "344 WEST 72 STREET New York, NY 10023              383\n",
      "101 POST AVENUE New York, NY 10034                 343\n",
      "80 FT WASHINGTON AVENUE New York, NY 10032         338\n",
      "                                          Violations\n",
      "560 AUDUBON AVENUE New York, NY 10040            498\n",
      "3851 BROADWAY New York, NY 10032                 336\n",
      "344 WEST 72 STREET New York, NY 10023            321\n",
      "1792 AMSTERDAM AVENUE New York, NY 10031         287\n",
      "203 WEST 145 STREET New York, NY 10039           273\n",
      "\n",
      "\n",
      "10960\n",
      "16206\n"
     ]
    }
   ],
   "source": [
    "c_a.columns =['Complaints']\n",
    "v_a.columns = ['Violations']\n",
    "print c_a.head()\n",
    "print v_a.head()\n",
    "print '\\n'\n",
    "print len(c_a)\n",
    "print len(v_a)"
   ]
  },
  {
   "cell_type": "markdown",
   "metadata": {},
   "source": [
    "###The number of buildings occuring complaints are \"10,960\"\n",
    "###The number of buildings occuring violations are \"16,206\"\n",
    "#Now, join the data set to compare COMPLAINTS vs. VIOLATIONS"
   ]
  },
  {
   "cell_type": "code",
   "execution_count": 20,
   "metadata": {
    "collapsed": false
   },
   "outputs": [
    {
     "data": {
      "text/plain": [
       "19439"
      ]
     },
     "execution_count": 20,
     "metadata": {},
     "output_type": "execute_result"
    }
   ],
   "source": [
    "#Join data C vs. V\n",
    "c_v_a = pd.concat([c_a, v_a], axis=1)\n",
    "len(c_v_a)"
   ]
  },
  {
   "cell_type": "markdown",
   "metadata": {},
   "source": [
    "### --> 19,439 buildings have either complaints or violations\n",
    "# GAP calculation"
   ]
  },
  {
   "cell_type": "code",
   "execution_count": 26,
   "metadata": {
    "collapsed": true
   },
   "outputs": [],
   "source": [
    "#Calculate gap between complaints and violations \n",
    "#Positive no. means higher complaints but less violateions (may be good reporting?)\n",
    "#Negative no. means less complaints but higher violations \n",
    "c_v_a = c_v_a.fillna(0)\n",
    "c_v_a['Gap']=c_v_a['Complaints'] - c_v_a['Violations']"
   ]
  },
  {
   "cell_type": "code",
   "execution_count": 41,
   "metadata": {
    "collapsed": false
   },
   "outputs": [
    {
     "data": {
      "text/plain": [
       "7727"
      ]
     },
     "execution_count": 41,
     "metadata": {},
     "output_type": "execute_result"
    }
   ],
   "source": [
    "len(c_v_a[(c_v_a.Complaints>0) & (c_v_a.Violations>0)])"
   ]
  },
  {
   "cell_type": "markdown",
   "metadata": {},
   "source": [
    "### --> 7,727 buildings have both complaints and violations (at least one reporting or inspection)"
   ]
  },
  {
   "cell_type": "code",
   "execution_count": 39,
   "metadata": {
    "collapsed": false
   },
   "outputs": [
    {
     "data": {
      "text/html": [
       "<div>\n",
       "<table border=\"1\" class=\"dataframe\">\n",
       "  <thead>\n",
       "    <tr style=\"text-align: right;\">\n",
       "      <th></th>\n",
       "      <th>Complaints</th>\n",
       "      <th>Violations</th>\n",
       "      <th>Gap</th>\n",
       "    </tr>\n",
       "  </thead>\n",
       "  <tbody>\n",
       "    <tr>\n",
       "      <th>1 5 AVENUE New York, NY 10003</th>\n",
       "      <td>1</td>\n",
       "      <td>3</td>\n",
       "      <td>-2</td>\n",
       "    </tr>\n",
       "    <tr>\n",
       "      <th>1 ADRIAN AVENUE New York, NY 10463</th>\n",
       "      <td>54</td>\n",
       "      <td>52</td>\n",
       "      <td>2</td>\n",
       "    </tr>\n",
       "    <tr>\n",
       "      <th>1 AUDUBON AVENUE New York, NY 10032</th>\n",
       "      <td>2</td>\n",
       "      <td>0</td>\n",
       "      <td>2</td>\n",
       "    </tr>\n",
       "    <tr>\n",
       "      <th>1 BENNETT AVENUE New York, NY 10033</th>\n",
       "      <td>41</td>\n",
       "      <td>12</td>\n",
       "      <td>29</td>\n",
       "    </tr>\n",
       "    <tr>\n",
       "      <th>1 BOGARDUS PLACE New York, NY 10040</th>\n",
       "      <td>47</td>\n",
       "      <td>23</td>\n",
       "      <td>24</td>\n",
       "    </tr>\n",
       "  </tbody>\n",
       "</table>\n",
       "</div>"
      ],
      "text/plain": [
       "                                     Complaints  Violations  Gap\n",
       "1 5 AVENUE New York, NY 10003                 1           3   -2\n",
       "1 ADRIAN AVENUE New York, NY 10463           54          52    2\n",
       "1 AUDUBON AVENUE New York, NY 10032           2           0    2\n",
       "1 BENNETT AVENUE New York, NY 10033          41          12   29\n",
       "1 BOGARDUS PLACE New York, NY 10040          47          23   24"
      ]
     },
     "execution_count": 39,
     "metadata": {},
     "output_type": "execute_result"
    }
   ],
   "source": [
    "c_v_a.head()"
   ]
  },
  {
   "cell_type": "markdown",
   "metadata": {},
   "source": [
    "#Top buildings with huge gap"
   ]
  },
  {
   "cell_type": "code",
   "execution_count": 29,
   "metadata": {
    "collapsed": false
   },
   "outputs": [
    {
     "data": {
      "text/html": [
       "<div>\n",
       "<table border=\"1\" class=\"dataframe\">\n",
       "  <thead>\n",
       "    <tr style=\"text-align: right;\">\n",
       "      <th></th>\n",
       "      <th>Complaints</th>\n",
       "      <th>Violations</th>\n",
       "      <th>Gap</th>\n",
       "    </tr>\n",
       "  </thead>\n",
       "  <tbody>\n",
       "    <tr>\n",
       "      <th>560 AUDUBON AVENUE New York, NY 10040</th>\n",
       "      <td>93</td>\n",
       "      <td>498</td>\n",
       "      <td>-405</td>\n",
       "    </tr>\n",
       "    <tr>\n",
       "      <th>203 WEST 145 STREET New York, NY 10039</th>\n",
       "      <td>26</td>\n",
       "      <td>273</td>\n",
       "      <td>-247</td>\n",
       "    </tr>\n",
       "    <tr>\n",
       "      <th>1792 AMSTERDAM AVENUE New York, NY 10031</th>\n",
       "      <td>57</td>\n",
       "      <td>287</td>\n",
       "      <td>-230</td>\n",
       "    </tr>\n",
       "    <tr>\n",
       "      <th>772 ST NICHOLAS AVENUE New York, NY 10031</th>\n",
       "      <td>64</td>\n",
       "      <td>269</td>\n",
       "      <td>-205</td>\n",
       "    </tr>\n",
       "    <tr>\n",
       "      <th>620 WEST 141 STREET New York, NY 10031</th>\n",
       "      <td>48</td>\n",
       "      <td>251</td>\n",
       "      <td>-203</td>\n",
       "    </tr>\n",
       "    <tr>\n",
       "      <th>85 BOWERY New York, NY 10002</th>\n",
       "      <td>21</td>\n",
       "      <td>216</td>\n",
       "      <td>-195</td>\n",
       "    </tr>\n",
       "    <tr>\n",
       "      <th>518 WEST 139 STREET New York, NY 10031</th>\n",
       "      <td>56</td>\n",
       "      <td>241</td>\n",
       "      <td>-185</td>\n",
       "    </tr>\n",
       "    <tr>\n",
       "      <th>640 RIVERSIDE DRIVE New York, NY 10031</th>\n",
       "      <td>30</td>\n",
       "      <td>190</td>\n",
       "      <td>-160</td>\n",
       "    </tr>\n",
       "    <tr>\n",
       "      <th>1619 AMSTERDAM AVENUE New York, NY 10031</th>\n",
       "      <td>51</td>\n",
       "      <td>211</td>\n",
       "      <td>-160</td>\n",
       "    </tr>\n",
       "    <tr>\n",
       "      <th>135 WEST 145 STREET New York, NY 10039</th>\n",
       "      <td>49</td>\n",
       "      <td>204</td>\n",
       "      <td>-155</td>\n",
       "    </tr>\n",
       "    <tr>\n",
       "      <th>444 EAST 13 STREET New York, NY 10009</th>\n",
       "      <td>124</td>\n",
       "      <td>272</td>\n",
       "      <td>-148</td>\n",
       "    </tr>\n",
       "    <tr>\n",
       "      <th>133 FT GEORGE AVENUE New York, NY 10040</th>\n",
       "      <td>10</td>\n",
       "      <td>157</td>\n",
       "      <td>-147</td>\n",
       "    </tr>\n",
       "    <tr>\n",
       "      <th>646 WEST 160 STREET New York, NY 10032</th>\n",
       "      <td>29</td>\n",
       "      <td>176</td>\n",
       "      <td>-147</td>\n",
       "    </tr>\n",
       "    <tr>\n",
       "      <th>208 WEST 151 STREET New York, NY 10039</th>\n",
       "      <td>81</td>\n",
       "      <td>223</td>\n",
       "      <td>-142</td>\n",
       "    </tr>\n",
       "    <tr>\n",
       "      <th>1627 AMSTERDAM AVENUE New York, NY 10031</th>\n",
       "      <td>132</td>\n",
       "      <td>267</td>\n",
       "      <td>-135</td>\n",
       "    </tr>\n",
       "    <tr>\n",
       "      <th>520 WEST 163 STREET New York, NY 10032</th>\n",
       "      <td>37</td>\n",
       "      <td>169</td>\n",
       "      <td>-132</td>\n",
       "    </tr>\n",
       "    <tr>\n",
       "      <th>534 WEST 178 STREET New York, NY 10033</th>\n",
       "      <td>68</td>\n",
       "      <td>196</td>\n",
       "      <td>-128</td>\n",
       "    </tr>\n",
       "    <tr>\n",
       "      <th>558 WEST 193 STREET New York, NY 10040</th>\n",
       "      <td>35</td>\n",
       "      <td>160</td>\n",
       "      <td>-125</td>\n",
       "    </tr>\n",
       "    <tr>\n",
       "      <th>2200 AMSTERDAM AVENUE New York, NY 10032</th>\n",
       "      <td>43</td>\n",
       "      <td>167</td>\n",
       "      <td>-124</td>\n",
       "    </tr>\n",
       "    <tr>\n",
       "      <th>501 WEST 143 STREET New York, NY 10031</th>\n",
       "      <td>10</td>\n",
       "      <td>133</td>\n",
       "      <td>-123</td>\n",
       "    </tr>\n",
       "    <tr>\n",
       "      <th>538 WEST 159 STREET New York, NY 10032</th>\n",
       "      <td>12</td>\n",
       "      <td>134</td>\n",
       "      <td>-122</td>\n",
       "    </tr>\n",
       "    <tr>\n",
       "      <th>620 WEST 182 STREET New York, NY 10033</th>\n",
       "      <td>62</td>\n",
       "      <td>183</td>\n",
       "      <td>-121</td>\n",
       "    </tr>\n",
       "    <tr>\n",
       "      <th>25 SHERMAN AVENUE New York, NY 10040</th>\n",
       "      <td>18</td>\n",
       "      <td>138</td>\n",
       "      <td>-120</td>\n",
       "    </tr>\n",
       "    <tr>\n",
       "      <th>157 VERMILYEA AVENUE New York, NY 10034</th>\n",
       "      <td>38</td>\n",
       "      <td>157</td>\n",
       "      <td>-119</td>\n",
       "    </tr>\n",
       "    <tr>\n",
       "      <th>464 EAST 115 STREET New York, NY 10029</th>\n",
       "      <td>8</td>\n",
       "      <td>123</td>\n",
       "      <td>-115</td>\n",
       "    </tr>\n",
       "    <tr>\n",
       "      <th>508 WEST 151 STREET New York, NY 10031</th>\n",
       "      <td>35</td>\n",
       "      <td>149</td>\n",
       "      <td>-114</td>\n",
       "    </tr>\n",
       "    <tr>\n",
       "      <th>523 WEST 187 STREET New York, NY 10033</th>\n",
       "      <td>13</td>\n",
       "      <td>122</td>\n",
       "      <td>-109</td>\n",
       "    </tr>\n",
       "    <tr>\n",
       "      <th>22 BRADHURST AVENUE New York, NY 10030</th>\n",
       "      <td>29</td>\n",
       "      <td>137</td>\n",
       "      <td>-108</td>\n",
       "    </tr>\n",
       "    <tr>\n",
       "      <th>87 CHRISTOPHER STREET New York, NY 10014</th>\n",
       "      <td>42</td>\n",
       "      <td>146</td>\n",
       "      <td>-104</td>\n",
       "    </tr>\n",
       "    <tr>\n",
       "      <th>9 POST AVENUE New York, NY 10034</th>\n",
       "      <td>29</td>\n",
       "      <td>132</td>\n",
       "      <td>-103</td>\n",
       "    </tr>\n",
       "  </tbody>\n",
       "</table>\n",
       "</div>"
      ],
      "text/plain": [
       "                                           Complaints  Violations  Gap\n",
       "560 AUDUBON AVENUE New York, NY 10040              93         498 -405\n",
       "203 WEST 145 STREET New York, NY 10039             26         273 -247\n",
       "1792 AMSTERDAM AVENUE New York, NY 10031           57         287 -230\n",
       "772 ST NICHOLAS AVENUE New York, NY 10031          64         269 -205\n",
       "620 WEST 141 STREET New York, NY 10031             48         251 -203\n",
       "85 BOWERY New York, NY 10002                       21         216 -195\n",
       "518 WEST 139 STREET New York, NY 10031             56         241 -185\n",
       "640 RIVERSIDE DRIVE New York, NY 10031             30         190 -160\n",
       "1619 AMSTERDAM AVENUE New York, NY 10031           51         211 -160\n",
       "135 WEST 145 STREET New York, NY 10039             49         204 -155\n",
       "444 EAST 13 STREET New York, NY 10009             124         272 -148\n",
       "133 FT GEORGE AVENUE New York, NY 10040            10         157 -147\n",
       "646 WEST 160 STREET New York, NY 10032             29         176 -147\n",
       "208 WEST 151 STREET New York, NY 10039             81         223 -142\n",
       "1627 AMSTERDAM AVENUE New York, NY 10031          132         267 -135\n",
       "520 WEST 163 STREET New York, NY 10032             37         169 -132\n",
       "534 WEST 178 STREET New York, NY 10033             68         196 -128\n",
       "558 WEST 193 STREET New York, NY 10040             35         160 -125\n",
       "2200 AMSTERDAM AVENUE New York, NY 10032           43         167 -124\n",
       "501 WEST 143 STREET New York, NY 10031             10         133 -123\n",
       "538 WEST 159 STREET New York, NY 10032             12         134 -122\n",
       "620 WEST 182 STREET New York, NY 10033             62         183 -121\n",
       "25 SHERMAN AVENUE New York, NY 10040               18         138 -120\n",
       "157 VERMILYEA AVENUE New York, NY 10034            38         157 -119\n",
       "464 EAST 115 STREET New York, NY 10029              8         123 -115\n",
       "508 WEST 151 STREET New York, NY 10031             35         149 -114\n",
       "523 WEST 187 STREET New York, NY 10033             13         122 -109\n",
       "22 BRADHURST AVENUE New York, NY 10030             29         137 -108\n",
       "87 CHRISTOPHER STREET New York, NY 10014           42         146 -104\n",
       "9 POST AVENUE New York, NY 10034                   29         132 -103"
      ]
     },
     "execution_count": 29,
     "metadata": {},
     "output_type": "execute_result"
    }
   ],
   "source": [
    "c_v_a.sort(['Gap'])[:30]"
   ]
  },
  {
   "cell_type": "code",
   "execution_count": 42,
   "metadata": {
    "collapsed": true
   },
   "outputs": [],
   "source": [
    "#save as csv (gaps)\n",
    "#c_v_a.to_csv('c_v_a_gap_2015.csv')"
   ]
  },
  {
   "cell_type": "markdown",
   "metadata": {},
   "source": [
    "#What I (we) want to do next...\n",
    "* Plot timeseries\n",
    "* Geocoding (point mapping + kernel mapping)\n",
    "*"
   ]
  }
 ],
 "metadata": {
  "kernelspec": {
   "display_name": "Python 2",
   "language": "python",
   "name": "python2"
  },
  "language_info": {
   "codemirror_mode": {
    "name": "ipython",
    "version": 2
   },
   "file_extension": ".py",
   "mimetype": "text/x-python",
   "name": "python",
   "nbconvert_exporter": "python",
   "pygments_lexer": "ipython2",
   "version": "2.7.10"
  }
 },
 "nbformat": 4,
 "nbformat_minor": 0
}
