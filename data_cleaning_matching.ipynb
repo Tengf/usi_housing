{
 "cells": [
  {
   "cell_type": "code",
   "execution_count": 1,
   "metadata": {
    "collapsed": false
   },
   "outputs": [
    {
     "name": "stdout",
     "output_type": "stream",
     "text": [
      "Populating the interactive namespace from numpy and matplotlib\n"
     ]
    }
   ],
   "source": [
    "import pandas as pd\n",
    "import matplotlib.pyplot as plt\n",
    "import numpy as np\n",
    "import geopandas as gpd\n",
    "import csv\n",
    "import dateutil\n",
    "%pylab inline"
   ]
  },
  {
   "cell_type": "markdown",
   "metadata": {},
   "source": [
    "###Complaints Data (Manhattan, 2015)"
   ]
  },
  {
   "cell_type": "code",
   "execution_count": 2,
   "metadata": {
    "collapsed": true
   },
   "outputs": [],
   "source": [
    "complaints = pd.read_csv('Housing_Maintenance_Code_Complaints.csv', parse_dates=['ReceivedDate', 'StatusDate'])"
   ]
  },
  {
   "cell_type": "code",
   "execution_count": 3,
   "metadata": {
    "collapsed": false
   },
   "outputs": [],
   "source": [
    "complaints = complaints[complaints['BoroughID']==1]\n",
    "complaints['ReceivedYR'] = complaints['ReceivedDate'].map(lambda x: x.year)\n",
    "complaints_2015 =  complaints[complaints['ReceivedYR']==2015]"
   ]
  },
  {
   "cell_type": "markdown",
   "metadata": {},
   "source": [
    "###The complaints data of Manhattan, 2015 are _\"88,118\"_"
   ]
  },
  {
   "cell_type": "code",
   "execution_count": 4,
   "metadata": {
    "collapsed": false
   },
   "outputs": [
    {
     "name": "stdout",
     "output_type": "stream",
     "text": [
      "88118\n",
      "ComplaintID                int64\n",
      "BuildingID                 int64\n",
      "BoroughID                  int64\n",
      "Borough                   object\n",
      "HouseNumber               object\n",
      "StreetName                object\n",
      "Zip                      float64\n",
      "Block                      int64\n",
      "Lot                        int64\n",
      "Apartment                 object\n",
      "CommunityBoard             int64\n",
      "ReceivedDate      datetime64[ns]\n",
      "StatusID                   int64\n",
      "Status                    object\n",
      "StatusDate        datetime64[ns]\n",
      "ReceivedYR                 int64\n",
      "dtype: object\n"
     ]
    }
   ],
   "source": [
    "print len(complaints_2015)\n",
    "print complaints_2015.dtypes"
   ]
  },
  {
   "cell_type": "code",
   "execution_count": 5,
   "metadata": {
    "collapsed": false
   },
   "outputs": [],
   "source": [
    "#complaints_2015.sort(['ReceivedDate'])[:3]"
   ]
  },
  {
   "cell_type": "markdown",
   "metadata": {},
   "source": [
    "### New columns ['BBL', 'Full_Address'] to match data in building level or BBL level\n",
    "__LOGIC__\n",
    "* BBL = BoroughID + Block + Lot\n",
    "* Full_Address = HouseNumber + StreeName + 'New York, NY' + Zip\n",
    "#Don't worry about the python warning (red box) which is just copy and paste columns issue. "
   ]
  },
  {
   "cell_type": "code",
   "execution_count": 6,
   "metadata": {
    "collapsed": false
   },
   "outputs": [
    {
     "name": "stderr",
     "output_type": "stream",
     "text": [
      "C:\\Users\\Boyeong\\Anaconda\\lib\\site-packages\\IPython\\kernel\\__main__.py:2: SettingWithCopyWarning: \n",
      "A value is trying to be set on a copy of a slice from a DataFrame.\n",
      "Try using .loc[row_indexer,col_indexer] = value instead\n",
      "\n",
      "See the the caveats in the documentation: http://pandas.pydata.org/pandas-docs/stable/indexing.html#indexing-view-versus-copy\n",
      "  from IPython.kernel.zmq import kernelapp as app\n",
      "C:\\Users\\Boyeong\\Anaconda\\lib\\site-packages\\IPython\\kernel\\__main__.py:3: SettingWithCopyWarning: \n",
      "A value is trying to be set on a copy of a slice from a DataFrame.\n",
      "Try using .loc[row_indexer,col_indexer] = value instead\n",
      "\n",
      "See the the caveats in the documentation: http://pandas.pydata.org/pandas-docs/stable/indexing.html#indexing-view-versus-copy\n",
      "  app.launch_new_instance()\n",
      "C:\\Users\\Boyeong\\Anaconda\\lib\\site-packages\\IPython\\kernel\\__main__.py:4: SettingWithCopyWarning: \n",
      "A value is trying to be set on a copy of a slice from a DataFrame.\n",
      "Try using .loc[row_indexer,col_indexer] = value instead\n",
      "\n",
      "See the the caveats in the documentation: http://pandas.pydata.org/pandas-docs/stable/indexing.html#indexing-view-versus-copy\n",
      "C:\\Users\\Boyeong\\Anaconda\\lib\\site-packages\\IPython\\kernel\\__main__.py:5: SettingWithCopyWarning: \n",
      "A value is trying to be set on a copy of a slice from a DataFrame.\n",
      "Try using .loc[row_indexer,col_indexer] = value instead\n",
      "\n",
      "See the the caveats in the documentation: http://pandas.pydata.org/pandas-docs/stable/indexing.html#indexing-view-versus-copy\n",
      "C:\\Users\\Boyeong\\Anaconda\\lib\\site-packages\\IPython\\kernel\\__main__.py:6: SettingWithCopyWarning: \n",
      "A value is trying to be set on a copy of a slice from a DataFrame.\n",
      "Try using .loc[row_indexer,col_indexer] = value instead\n",
      "\n",
      "See the the caveats in the documentation: http://pandas.pydata.org/pandas-docs/stable/indexing.html#indexing-view-versus-copy\n",
      "C:\\Users\\Boyeong\\Anaconda\\lib\\site-packages\\IPython\\kernel\\__main__.py:9: SettingWithCopyWarning: \n",
      "A value is trying to be set on a copy of a slice from a DataFrame.\n",
      "Try using .loc[row_indexer,col_indexer] = value instead\n",
      "\n",
      "See the the caveats in the documentation: http://pandas.pydata.org/pandas-docs/stable/indexing.html#indexing-view-versus-copy\n",
      "C:\\Users\\Boyeong\\Anaconda\\lib\\site-packages\\IPython\\kernel\\__main__.py:10: SettingWithCopyWarning: \n",
      "A value is trying to be set on a copy of a slice from a DataFrame.\n",
      "Try using .loc[row_indexer,col_indexer] = value instead\n",
      "\n",
      "See the the caveats in the documentation: http://pandas.pydata.org/pandas-docs/stable/indexing.html#indexing-view-versus-copy\n",
      "C:\\Users\\Boyeong\\Anaconda\\lib\\site-packages\\IPython\\kernel\\__main__.py:13: SettingWithCopyWarning: \n",
      "A value is trying to be set on a copy of a slice from a DataFrame.\n",
      "Try using .loc[row_indexer,col_indexer] = value instead\n",
      "\n",
      "See the the caveats in the documentation: http://pandas.pydata.org/pandas-docs/stable/indexing.html#indexing-view-versus-copy\n",
      "C:\\Users\\Boyeong\\Anaconda\\lib\\site-packages\\IPython\\kernel\\__main__.py:14: SettingWithCopyWarning: \n",
      "A value is trying to be set on a copy of a slice from a DataFrame.\n",
      "Try using .loc[row_indexer,col_indexer] = value instead\n",
      "\n",
      "See the the caveats in the documentation: http://pandas.pydata.org/pandas-docs/stable/indexing.html#indexing-view-versus-copy\n"
     ]
    }
   ],
   "source": [
    "#Covert dtype int to str\n",
    "complaints_2015['BoroughID'] = complaints_2015['BoroughID'].astype(str)\n",
    "complaints_2015['Block'] = complaints_2015['Block'].astype(str)\n",
    "complaints_2015['Lot'] = complaints_2015['Lot'].astype(str)\n",
    "complaints_2015['Zip'] = complaints_2015['Zip'].astype(str)\n",
    "complaints_2015['Zip'] = complaints_2015['Zip'].map(lambda x: str(x)[0:5])\n",
    "\n",
    "#Add leading zeros to the Block and Lot (to make 10 digits BBL)\n",
    "complaints_2015['Block'] = complaints_2015['Block'].apply(lambda x: x.zfill(5))\n",
    "complaints_2015['Lot'] = complaints_2015['Lot'].apply(lambda x: x.zfill(4))\n",
    "\n",
    "#Combime columns \n",
    "complaints_2015['BBL'] = complaints_2015['BoroughID'] + complaints_2015['Block'] + complaints_2015['Lot']\n",
    "complaints_2015['Full_Address'] = complaints_2015['HouseNumber'] + ' ' + complaints_2015['StreetName'] + ' New York, NY ' + complaints_2015['Zip']"
   ]
  },
  {
   "cell_type": "code",
   "execution_count": 7,
   "metadata": {
    "collapsed": false
   },
   "outputs": [
    {
     "name": "stdout",
     "output_type": "stream",
     "text": [
      "174927                    442 2 AVENUE New York, NY 10010\n",
      "174928    2155 ADAM C POWELL BOULEVARD New York, NY 10027\n",
      "174929           1528 AMSTERDAM AVENUE New York, NY 10031\n",
      "Name: Full_Address, dtype: object\n"
     ]
    }
   ],
   "source": [
    "print complaints_2015.Full_Address[:3]"
   ]
  },
  {
   "cell_type": "markdown",
   "metadata": {},
   "source": [
    "###Geocoding for address matching in Bldg level (daily limitation --> will figure out)"
   ]
  },
  {
   "cell_type": "code",
   "execution_count": 8,
   "metadata": {
    "collapsed": false
   },
   "outputs": [],
   "source": [
    "#import geocoder\n",
    "\n",
    "# Function to send address to geo-encode from Google API\n",
    "#def geoencode(address):\n",
    "    #g = geocoder.google(address) # ex. 30-27 Greenpoint Avenue LIC, NY\n",
    "    #loc = [g.lat, g.lng, g.geometry] # create a list\n",
    "    #return loc\n",
    "\n",
    "#address = []\n",
    "#lat = []\n",
    "#lng = []\n",
    "#geometry = []\n",
    "\n",
    "#for i in complaints_2015.Full_Address:\n",
    "    #g = geoencode(i) # call geoencode function\n",
    "    #address.append(i)\n",
    "    #lat.append(g[:1])\n",
    "    #lng.append(g[1:2])\n",
    "    #geometry.append(g[2:3])\n",
    "\n",
    "#print \"Finished Geocoding\"\n",
    "\n",
    "#Lat = pd.DataFrame(lat)\n",
    "#Lat.columns=['Lat']\n",
    "#Lon = pd.DataFrame(lng)\n",
    "#Lon.columns=['Lon']\n",
    "#Geometry = pd.DataFrame(geometry)\n",
    "#Geometry.columns=['Geometry']\n",
    "\n",
    "#complaints_2015 = pd.concat([complaints_2015, Lat, Lon, Geometry], axis=1)\n",
    "#result.to_csv('e_waste_dataset_recyclingfacilities_geocoding_nyc.csv')"
   ]
  },
  {
   "cell_type": "markdown",
   "metadata": {},
   "source": [
    "###Violations Data (Manhattan, 2015)"
   ]
  },
  {
   "cell_type": "code",
   "execution_count": null,
   "metadata": {
    "collapsed": true
   },
   "outputs": [],
   "source": [
    "violations = pd.read_csv('Housing_Maintenance_Code_Violations.csv', parse_dates=['InspectionDate', 'ApprovedDate']) # violations"
   ]
  },
  {
   "cell_type": "code",
   "execution_count": null,
   "metadata": {
    "collapsed": true
   },
   "outputs": [],
   "source": [
    "violations = violations[violations['BoroID']==1]\n",
    "violations['InspectionYR'] = violations['InspectionDate'].map(lambda x: x.year)\n",
    "violations_2015 =  violations[violations['InspectionYR']==2015]"
   ]
  },
  {
   "cell_type": "markdown",
   "metadata": {},
   "source": [
    "###The violations data of Manhattan, 2015 are _\"112,574\"_\n",
    "### !!! violations - complaints = 112,574 - 88,118 = 24,456"
   ]
  },
  {
   "cell_type": "code",
   "execution_count": null,
   "metadata": {
    "collapsed": false
   },
   "outputs": [],
   "source": [
    "print len(violations_2015)\n",
    "print violations_2015.dtypes"
   ]
  },
  {
   "cell_type": "markdown",
   "metadata": {},
   "source": [
    "### New columns ['BBL', 'Full_Address'] to match data in building level or BBL level\n",
    "__LOGIC__\n",
    "* BBL = BoroID + Block + Lot\n",
    "* Full_Address = HouseNumber + StreeName + 'New York, NY' + Zip\n",
    "#Don't worry about the python warning (red box) which is just copy and paste columns issue. "
   ]
  },
  {
   "cell_type": "code",
   "execution_count": null,
   "metadata": {
    "collapsed": false
   },
   "outputs": [],
   "source": [
    "#Covert dtype int to str\n",
    "violations_2015['BoroID'] = violations_2015['BoroID'].astype(str)\n",
    "violations_2015['Block'] = violations_2015['Block'].astype(str)\n",
    "violations_2015['Lot'] = violations_2015['Lot'].astype(str)\n",
    "violations_2015['Zip'] = violations_2015['Zip'].astype(str)\n",
    "violations_2015['Zip'] = violations_2015['Zip'].map(lambda x: str(x)[0:5])\n",
    "\n",
    "#Add leading zeros to the Block and Lot (to make 10 digits BBL)\n",
    "violations_2015['Block'] = violations_2015['Block'].apply(lambda x: x.zfill(5))\n",
    "violations_2015['Lot'] = violations_2015['Lot'].apply(lambda x: x.zfill(4))\n",
    "\n",
    "#Combime columns \n",
    "violations_2015['BBL'] = violations_2015['BoroID'] + violations_2015['Block'] + violations_2015['Lot']\n",
    "violations_2015['Full_Address'] = violations_2015['HouseNumber'] + ' ' + violations_2015['StreetName'] + ' New York, NY ' + violations_2015['Zip']"
   ]
  },
  {
   "cell_type": "code",
   "execution_count": null,
   "metadata": {
    "collapsed": false
   },
   "outputs": [],
   "source": [
    "print violations_2015[:3]"
   ]
  },
  {
   "cell_type": "code",
   "execution_count": null,
   "metadata": {
    "collapsed": true
   },
   "outputs": [],
   "source": [
    "#save as csv (complaints)\n",
    "#complaints_2015.to_csv('complaints_2015.csv')"
   ]
  },
  {
   "cell_type": "code",
   "execution_count": null,
   "metadata": {
    "collapsed": true
   },
   "outputs": [],
   "source": [
    "#save as csv (violations)\n",
    "#violations_2015.to_csv('violations_2015.csv')"
   ]
  },
  {
   "cell_type": "code",
   "execution_count": null,
   "metadata": {
    "collapsed": false
   },
   "outputs": [],
   "source": [
    "print complaints_2015.sort(['ReceivedDate'])[:10]"
   ]
  },
  {
   "cell_type": "code",
   "execution_count": null,
   "metadata": {
    "collapsed": false
   },
   "outputs": [],
   "source": [
    "print complaints_2015.ReceivedDate[complaints_2015['Full_Address']=='166 WEST 87 STREET New York, NY 10024']\n",
    "print '\\n'\n",
    "print violations_2015.InspectionDate[violations_2015['Full_Address']=='166 WEST 87 STREET New York, NY 10024']"
   ]
  },
  {
   "cell_type": "markdown",
   "metadata": {},
   "source": [
    "###Data group by same address to compare C vs. V (simle numeric gap)"
   ]
  },
  {
   "cell_type": "code",
   "execution_count": null,
   "metadata": {
    "collapsed": false
   },
   "outputs": [],
   "source": [
    "#count of complaints and violations on same address (To compare the number of gap)\n",
    "c_a = complaints_2015['Full_Address'].value_counts().to_frame()\n",
    "v_a = violations_2015['Full_Address'].value_counts().to_frame()"
   ]
  },
  {
   "cell_type": "code",
   "execution_count": null,
   "metadata": {
    "collapsed": false
   },
   "outputs": [],
   "source": [
    "c_a.columns =['Complaints']\n",
    "v_a.columns = ['Violations']\n",
    "print c_a.head()\n",
    "print v_a.head()\n",
    "print '\\n'\n",
    "print len(c_a)\n",
    "print len(v_a)"
   ]
  },
  {
   "cell_type": "code",
   "execution_count": null,
   "metadata": {
    "collapsed": false
   },
   "outputs": [],
   "source": [
    "#Join data C vs. V\n",
    "c_v_a = pd.concat([c_a, v_a], axis=1)\n",
    "len(c_v_a)"
   ]
  },
  {
   "cell_type": "code",
   "execution_count": null,
   "metadata": {
    "collapsed": true
   },
   "outputs": [],
   "source": [
    "#Calculate gap between complaints and violations \n",
    "#Positive no. means higher complaints but less violateions (may be good reporting?)\n",
    "#Negative no. means less complaints but higher violations \n",
    "c_v_a['Gap']=c_v_a['Complaints'] - c_v_a['Violations']"
   ]
  },
  {
   "cell_type": "code",
   "execution_count": null,
   "metadata": {
    "collapsed": false
   },
   "outputs": [],
   "source": [
    "c_v_a.head(30)"
   ]
  },
  {
   "cell_type": "markdown",
   "metadata": {},
   "source": [
    "#What I (we) want to do next...\n",
    "* Plot timeseries\n",
    "* Geocoding (point mapping + kernel mapping)\n",
    "*"
   ]
  },
  {
   "cell_type": "code",
   "execution_count": null,
   "metadata": {
    "collapsed": true
   },
   "outputs": [],
   "source": []
  }
 ],
 "metadata": {
  "kernelspec": {
   "display_name": "Python 2",
   "language": "python",
   "name": "python2"
  },
  "language_info": {
   "codemirror_mode": {
    "name": "ipython",
    "version": 2
   },
   "file_extension": ".py",
   "mimetype": "text/x-python",
   "name": "python",
   "nbconvert_exporter": "python",
   "pygments_lexer": "ipython2",
   "version": "2.7.10"
  }
 },
 "nbformat": 4,
 "nbformat_minor": 0
}
