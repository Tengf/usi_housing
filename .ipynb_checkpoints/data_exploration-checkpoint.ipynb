{
 "cells": [
  {
   "cell_type": "markdown",
   "metadata": {},
   "source": [
    "# Data Exploration IPython Notebook"
   ]
  },
  {
   "cell_type": "code",
   "execution_count": 1,
   "metadata": {
    "collapsed": true
   },
   "outputs": [],
   "source": [
    "# last modified by: lindali\n",
    "# last modified: 2/12/16"
   ]
  },
  {
   "cell_type": "code",
   "execution_count": 2,
   "metadata": {
    "collapsed": false
   },
   "outputs": [
    {
     "name": "stdout",
     "output_type": "stream",
     "text": [
      "Populating the interactive namespace from numpy and matplotlib\n"
     ]
    }
   ],
   "source": [
    "# import packages\n",
    "import pandas as pd\n",
    "import matplotlib.pyplot as plt\n",
    "import numpy as np\n",
    "\n",
    "%pylab inline"
   ]
  },
  {
   "cell_type": "markdown",
   "metadata": {},
   "source": [
    "## Loading Data"
   ]
  },
  {
   "cell_type": "code",
   "execution_count": 3,
   "metadata": {
    "collapsed": false
   },
   "outputs": [],
   "source": [
    "# complaints (311)\n",
    "complaints = pd.read_csv('Housing_Maintenance_Code_Complaints.csv', parse_dates=['ReceivedDate', 'StatusDate'])"
   ]
  },
  {
   "cell_type": "code",
   "execution_count": 4,
   "metadata": {
    "collapsed": false
   },
   "outputs": [
    {
     "name": "stdout",
     "output_type": "stream",
     "text": [
      "ComplaintID                int64\n",
      "BuildingID                 int64\n",
      "BoroughID                  int64\n",
      "Borough                   object\n",
      "HouseNumber               object\n",
      "StreetName                object\n",
      "Zip                      float64\n",
      "Block                      int64\n",
      "Lot                        int64\n",
      "Apartment                 object\n",
      "CommunityBoard             int64\n",
      "ReceivedDate      datetime64[ns]\n",
      "StatusID                   int64\n",
      "Status                    object\n",
      "StatusDate        datetime64[ns]\n",
      "dtype: object\n"
     ]
    }
   ],
   "source": [
    "print complaints.dtypes"
   ]
  },
  {
   "cell_type": "code",
   "execution_count": 5,
   "metadata": {
    "collapsed": false
   },
   "outputs": [
    {
     "name": "stdout",
     "output_type": "stream",
     "text": [
      "   ComplaintID  BuildingID  BoroughID    Borough HouseNumber  \\\n",
      "0      6960137        3418          1  MANHATTAN        1989   \n",
      "1      6960832        3512          1  MANHATTAN        2267   \n",
      "2      6946867        5318          1  MANHATTAN         778   \n",
      "3      6966946        5608          1  MANHATTAN        1640   \n",
      "4      6963755        7851          1  MANHATTAN        2586   \n",
      "\n",
      "                StreetName    Zip  Block  Lot Apartment  CommunityBoard  \\\n",
      "0  ADAM C POWELL BOULEVARD  10026   1904    4       12D              10   \n",
      "1  ADAM C POWELL BOULEVARD  10030   1918    4        3B              10   \n",
      "2                11 AVENUE  10019   1083    1        4P               4   \n",
      "3         AMSTERDAM AVENUE  10031   2073   29        5A               9   \n",
      "4                 BROADWAY  10025   1869   44        2B               7   \n",
      "\n",
      "  ReceivedDate  StatusID Status StatusDate  \n",
      "0   2014-07-07         2  CLOSE 2014-07-29  \n",
      "1   2014-07-08         2  CLOSE 2014-07-12  \n",
      "2   2014-06-19         2  CLOSE 2014-07-13  \n",
      "3   2014-07-16         2  CLOSE 2014-07-21  \n",
      "4   2014-07-11         2  CLOSE 2014-09-11  \n"
     ]
    }
   ],
   "source": [
    "print complaints.head()"
   ]
  },
  {
   "cell_type": "code",
   "execution_count": 6,
   "metadata": {
    "collapsed": true
   },
   "outputs": [],
   "source": [
    "# violations  (LL selected columns to reduce data size)\n",
    "violations = pd.read_csv('Violations_2015.csv', parse_dates=['InspectionDate']) # violations"
   ]
  },
  {
   "cell_type": "code",
   "execution_count": 7,
   "metadata": {
    "collapsed": false
   },
   "outputs": [
    {
     "name": "stdout",
     "output_type": "stream",
     "text": [
      "577979\n"
     ]
    }
   ],
   "source": [
    "print len(violations)"
   ]
  },
  {
   "cell_type": "code",
   "execution_count": 8,
   "metadata": {
    "collapsed": false
   },
   "outputs": [
    {
     "name": "stdout",
     "output_type": "stream",
     "text": [
      "   Unnamed: 0  ViolationID  BuildingID  RegistrationID  BoroID       Boro  \\\n",
      "0      393664     10506902          14          115401       1  MANHATTAN   \n",
      "1      393665     10506854          14          115401       1  MANHATTAN   \n",
      "2      393666     10506855          14          115401       1  MANHATTAN   \n",
      "3      393669     10506853          14          115401       1  MANHATTAN   \n",
      "4      393671     10501718          30          102324       1  MANHATTAN   \n",
      "\n",
      "  HouseNumber LowHouseNumber HighHouseNumber StreetName  StreetCode    Zip  \\\n",
      "0        1058           1058            1064   1 AVENUE       10010  10022   \n",
      "1        1058           1058            1064   1 AVENUE       10010  10022   \n",
      "2        1058           1058            1064   1 AVENUE       10010  10022   \n",
      "3        1058           1058            1064   1 AVENUE       10010  10022   \n",
      "4        1097           1097            1097   1 AVENUE       10010  10065   \n",
      "\n",
      "  Apartment Story  Block  Lot Class InspectionDate ApprovedDate  OrderNumber  \n",
      "0     PENTC    12   1369   45     C     2015-01-14   01/14/2015          617  \n",
      "1     PENTC    17   1369   45     B     2015-01-14   01/14/2015          702  \n",
      "2     PENTC    17   1369   45     B     2015-01-14   01/14/2015         1503  \n",
      "3     PENTC    17   1369   45     A     2015-01-14   01/14/2015          556  \n",
      "4       222     2   1435   23     C     2015-01-09   01/10/2015          510  \n"
     ]
    }
   ],
   "source": [
    "print violations.head()"
   ]
  },
  {
   "cell_type": "code",
   "execution_count": 17,
   "metadata": {
    "collapsed": true
   },
   "outputs": [],
   "source": [
    "# 1. what data can we find on buildings (year built, material, type, etc.)\n",
    "# 2. at what level is this data provided (bbl, bin, address?)\n",
    "# 3. how can we tie this to the complaints/violations data (bbl, possibly bin (found a file called Buildings_Subject_to_HPD_Jurisdiction.csv))"
   ]
  },
  {
   "cell_type": "code",
   "execution_count": null,
   "metadata": {
    "collapsed": true
   },
   "outputs": [],
   "source": []
  }
 ],
 "metadata": {
  "kernelspec": {
   "display_name": "Python 2",
   "language": "python",
   "name": "python2"
  },
  "language_info": {
   "codemirror_mode": {
    "name": "ipython",
    "version": 2
   },
   "file_extension": ".py",
   "mimetype": "text/x-python",
   "name": "python",
   "nbconvert_exporter": "python",
   "pygments_lexer": "ipython2",
   "version": "2.7.10"
  }
 },
 "nbformat": 4,
 "nbformat_minor": 0
}
