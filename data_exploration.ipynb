{
 "cells": [
  {
   "cell_type": "markdown",
   "metadata": {},
   "source": [
    "# Data Exploration IPython Notebook"
   ]
  },
  {
   "cell_type": "code",
   "execution_count": 1,
   "metadata": {
    "collapsed": true
   },
   "outputs": [],
   "source": [
    "# last modified by: lindali\n",
    "# last modified: 2/12/16"
   ]
  },
  {
   "cell_type": "code",
   "execution_count": 2,
   "metadata": {
    "collapsed": false
   },
   "outputs": [
    {
     "name": "stdout",
     "output_type": "stream",
     "text": [
      "Populating the interactive namespace from numpy and matplotlib\n"
     ]
    }
   ],
   "source": [
    "# import packages\n",
    "import pandas as pd\n",
    "import matplotlib.pyplot as plt\n",
    "import numpy as np\n",
    "\n",
    "%pylab inline"
   ]
  },
  {
   "cell_type": "markdown",
   "metadata": {},
   "source": [
    "## Loading Data"
   ]
  },
  {
   "cell_type": "code",
   "execution_count": 3,
   "metadata": {
    "collapsed": false
   },
   "outputs": [],
   "source": [
    "# complaints (311)\n",
    "complaints = pd.read_csv('Housing_Maintenance_Code_Complaints.csv', parse_dates=['ReceivedDate', 'StatusDate'])"
   ]
  },
  {
   "cell_type": "code",
   "execution_count": 4,
   "metadata": {
    "collapsed": false
   },
   "outputs": [
    {
     "name": "stdout",
     "output_type": "stream",
     "text": [
      "ComplaintID                int64\n",
      "BuildingID                 int64\n",
      "BoroughID                  int64\n",
      "Borough                   object\n",
      "HouseNumber               object\n",
      "StreetName                object\n",
      "Zip                      float64\n",
      "Block                      int64\n",
      "Lot                        int64\n",
      "Apartment                 object\n",
      "CommunityBoard             int64\n",
      "ReceivedDate      datetime64[ns]\n",
      "StatusID                   int64\n",
      "Status                    object\n",
      "StatusDate        datetime64[ns]\n",
      "dtype: object\n"
     ]
    }
   ],
   "source": [
    "print complaints.dtypes"
   ]
  },
  {
   "cell_type": "code",
   "execution_count": 5,
   "metadata": {
    "collapsed": false
   },
   "outputs": [
    {
     "name": "stdout",
     "output_type": "stream",
     "text": [
      "   ComplaintID  BuildingID  BoroughID    Borough HouseNumber  \\\n",
      "0      6960137        3418          1  MANHATTAN        1989   \n",
      "1      6960832        3512          1  MANHATTAN        2267   \n",
      "2      6946867        5318          1  MANHATTAN         778   \n",
      "3      6966946        5608          1  MANHATTAN        1640   \n",
      "4      6963755        7851          1  MANHATTAN        2586   \n",
      "\n",
      "                StreetName    Zip  Block  Lot Apartment  CommunityBoard  \\\n",
      "0  ADAM C POWELL BOULEVARD  10026   1904    4       12D              10   \n",
      "1  ADAM C POWELL BOULEVARD  10030   1918    4        3B              10   \n",
      "2                11 AVENUE  10019   1083    1        4P               4   \n",
      "3         AMSTERDAM AVENUE  10031   2073   29        5A               9   \n",
      "4                 BROADWAY  10025   1869   44        2B               7   \n",
      "\n",
      "  ReceivedDate  StatusID Status StatusDate  \n",
      "0   2014-07-07         2  CLOSE 2014-07-29  \n",
      "1   2014-07-08         2  CLOSE 2014-07-12  \n",
      "2   2014-06-19         2  CLOSE 2014-07-13  \n",
      "3   2014-07-16         2  CLOSE 2014-07-21  \n",
      "4   2014-07-11         2  CLOSE 2014-09-11  \n"
     ]
    }
   ],
   "source": [
    "print complaints.head()"
   ]
  },
  {
   "cell_type": "code",
   "execution_count": 14,
   "metadata": {
    "collapsed": true
   },
   "outputs": [],
   "source": [
    "# violations \n",
    "violations = pd.read_csv('Housing_Maintenance_Code_Violations.csv', parse_dates=['InspectionDate']) # violations"
   ]
  },
  {
   "cell_type": "code",
   "execution_count": 15,
   "metadata": {
    "collapsed": false
   },
   "outputs": [
    {
     "name": "stdout",
     "output_type": "stream",
     "text": [
      "1275554\n",
      "ViolationID              1275554\n",
      "BuildingID               1275554\n",
      "RegistrationID           1275554\n",
      "BoroID                   1275554\n",
      "Boro                     1275554\n",
      "HouseNumber              1275554\n",
      "LowHouseNumber           1275201\n",
      "HighHouseNumber          1275554\n",
      "StreetName               1275554\n",
      "StreetCode               1275554\n",
      "Zip                      1275285\n",
      "Apartment                 940702\n",
      "Story                    1083989\n",
      "Block                    1275554\n",
      "Lot                      1275554\n",
      "Class                    1275554\n",
      "InspectionDate           1275554\n",
      "ApprovedDate             1275554\n",
      "OriginalCertifyByDate    1153887\n",
      "OriginalCorrectByDate    1153887\n",
      "NewCertifyByDate           14275\n",
      "NewCorrectByDate           14275\n",
      "CertifiedDate             347196\n",
      "OrderNumber              1275554\n",
      "NOVID                    1247728\n",
      "NOVDescription           1275554\n",
      "NOVIssuedDate            1247728\n",
      "CurrentStatusID          1275554\n",
      "CurrentStatus            1275554\n",
      "CurrentStatusDate        1275554\n",
      "dtype: int64\n"
     ]
    }
   ],
   "source": [
    "print len(violations)\n",
    "print violations.count(0) # look at how populated each column is by counting the non-blank values"
   ]
  },
  {
   "cell_type": "code",
   "execution_count": 16,
   "metadata": {
    "collapsed": false
   },
   "outputs": [
    {
     "name": "stdout",
     "output_type": "stream",
     "text": [
      "   ViolationID  BuildingID  RegistrationID  BoroID       Boro HouseNumber  \\\n",
      "0     10304176       45567          202840       2      BRONX        1905   \n",
      "1     10340355       41491          105339       1  MANHATTAN         111   \n",
      "2     10337179       27609          107359       1  MANHATTAN         272   \n",
      "3      9765465       27977          108394       1  MANHATTAN        1392   \n",
      "4     10360745      228613          301784       3   BROOKLYN         712   \n",
      "\n",
      "  LowHouseNumber HighHouseNumber            StreetName  StreetCode  \\\n",
      "0           1905            1905  ANDREWS AVENUE SOUTH        8820   \n",
      "1            111             115       WEST 141 STREET       36590   \n",
      "2            272             274        SHERMAN AVENUE       30490   \n",
      "3           1390            1398    ST NICHOLAS AVENUE       31190   \n",
      "4            712             712          CROWN STREET       30930   \n",
      "\n",
      "         ...         NewCertifyByDate NewCorrectByDate CertifiedDate  \\\n",
      "0        ...                      NaN              NaN           NaN   \n",
      "1        ...                      NaN              NaN           NaN   \n",
      "2        ...                      NaN              NaN    08/19/2014   \n",
      "3        ...                      NaN              NaN           NaN   \n",
      "4        ...                      NaN              NaN    10/14/2014   \n",
      "\n",
      "   OrderNumber    NOVID                                     NOVDescription  \\\n",
      "0          508  4873659  Â§ 27-2005 ADM CODE REPAIR THE BROKEN OR DEFEC...   \n",
      "1          508  4893132  Â§ 27-2005 ADM CODE REPAIR THE BROKEN OR DEFEC...   \n",
      "2          508  4891907  Â§ 27-2005 ADM CODE REPAIR THE BROKEN OR DEFEC...   \n",
      "3          556  4587008  Â§ 27-2013 ADM CODE PAINT WITH LIGHT COLORED P...   \n",
      "4          501  4905010  Â§ 27-2005 ADM CODE PROPERLY REPAIR THE BROKEN...   \n",
      "\n",
      "  NOVIssuedDate CurrentStatusID                             CurrentStatus  \\\n",
      "0    07/14/2014              19                          VIOLATION CLOSED   \n",
      "1    08/12/2014              22  FIRST NO ACCESS TO RE- INSPECT VIOLATION   \n",
      "2    08/11/2014              19                          VIOLATION CLOSED   \n",
      "3    03/19/2013              19                          VIOLATION CLOSED   \n",
      "4    08/29/2014              19                          VIOLATION CLOSED   \n",
      "\n",
      "  CurrentStatusDate  \n",
      "0        08/01/2014  \n",
      "1        09/18/2015  \n",
      "2        10/30/2014  \n",
      "3        10/28/2015  \n",
      "4        12/26/2014  \n",
      "\n",
      "[5 rows x 30 columns]\n"
     ]
    }
   ],
   "source": [
    "print violations.head()"
   ]
  },
  {
   "cell_type": "code",
   "execution_count": 17,
   "metadata": {
    "collapsed": true
   },
   "outputs": [],
   "source": [
    "# 1. what data can we find on buildings (year built, material, type, etc.)\n",
    "# 2. at what level is this data provided (bbl, bin, address?)\n",
    "# 3. how can we tie this to the complaints/violations data (bbl, possibly bin (found a file called Buildings_Subject_to_HPD_Jurisdiction.csv))"
   ]
  },
  {
   "cell_type": "code",
   "execution_count": 18,
   "metadata": {
    "collapsed": true
   },
   "outputs": [],
   "source": [
    "# truncate violations"
   ]
  },
  {
   "cell_type": "code",
   "execution_count": 19,
   "metadata": {
    "collapsed": false
   },
   "outputs": [
    {
     "name": "stdout",
     "output_type": "stream",
     "text": [
      "1964-12-28 00:00:00 2016-01-31 00:00:00\n"
     ]
    }
   ],
   "source": [
    "print min(violations.InspectionDate), max(violations.InspectionDate)"
   ]
  },
  {
   "cell_type": "code",
   "execution_count": 20,
   "metadata": {
    "collapsed": true
   },
   "outputs": [],
   "source": [
    "violations=violations[violations.InspectionDate>='01/01/2015']"
   ]
  },
  {
   "cell_type": "code",
   "execution_count": 21,
   "metadata": {
    "collapsed": false
   },
   "outputs": [
    {
     "name": "stdout",
     "output_type": "stream",
     "text": [
      "577979\n"
     ]
    }
   ],
   "source": [
    "print len(violations)"
   ]
  },
  {
   "cell_type": "code",
   "execution_count": 22,
   "metadata": {
    "collapsed": false
   },
   "outputs": [
    {
     "name": "stdout",
     "output_type": "stream",
     "text": [
      "2015-01-01 00:00:00 2016-01-31 00:00:00\n"
     ]
    }
   ],
   "source": [
    "print min(violations.InspectionDate), max(violations.InspectionDate)"
   ]
  },
  {
   "cell_type": "code",
   "execution_count": 31,
   "metadata": {
    "collapsed": true
   },
   "outputs": [],
   "source": [
    "violations.to_csv('Violations_2015.csv')"
   ]
  },
  {
   "cell_type": "code",
   "execution_count": 24,
   "metadata": {
    "collapsed": false
   },
   "outputs": [
    {
     "name": "stdout",
     "output_type": "stream",
     "text": [
      "   Unnamed: 0  ViolationID  BuildingID  RegistrationID  BoroID       Boro  \\\n",
      "0      393664     10506902          14          115401       1  MANHATTAN   \n",
      "1      393665     10506854          14          115401       1  MANHATTAN   \n",
      "2      393666     10506855          14          115401       1  MANHATTAN   \n",
      "3      393669     10506853          14          115401       1  MANHATTAN   \n",
      "4      393671     10501718          30          102324       1  MANHATTAN   \n",
      "\n",
      "  HouseNumber LowHouseNumber HighHouseNumber StreetName        ...         \\\n",
      "0        1058           1058            1064   1 AVENUE        ...          \n",
      "1        1058           1058            1064   1 AVENUE        ...          \n",
      "2        1058           1058            1064   1 AVENUE        ...          \n",
      "3        1058           1058            1064   1 AVENUE        ...          \n",
      "4        1097           1097            1097   1 AVENUE        ...          \n",
      "\n",
      "   NewCertifyByDate  NewCorrectByDate CertifiedDate OrderNumber    NOVID  \\\n",
      "0               NaN               NaN           NaN         617  4983871   \n",
      "1               NaN               NaN    02/09/2015         702  4983870   \n",
      "2               NaN               NaN    02/09/2015        1503  4983870   \n",
      "3               NaN               NaN           NaN         556  4983869   \n",
      "4               NaN               NaN           NaN         510  4981321   \n",
      "\n",
      "                                      NOVDescription NOVIssuedDate  \\\n",
      "0  Â§ 27-2056.6 ADM CODE - CORRECT THE LEAD-BASED...    01/15/2015   \n",
      "1  Â§ 27-2045 ADM CODE REPAIR OR REPLACE THE SMOK...    01/15/2015   \n",
      "2  Â§ 27-2046.1 HMC: REPAIR OR REPLACE THE CARBON...    01/15/2015   \n",
      "3  Â§ 27-2013 ADM CODE PAINT WITH LIGHT COLORED P...    01/15/2015   \n",
      "4  Â§ 27-2005 ADM CODE & 309 M/D LAW ABATE THE NU...    01/12/2015   \n",
      "\n",
      "  CurrentStatusID         CurrentStatus CurrentStatusDate  \n",
      "0              20  DEFECT LETTER ISSUED        02/25/2015  \n",
      "1              19      VIOLATION CLOSED        02/25/2015  \n",
      "2              19      VIOLATION CLOSED        02/25/2015  \n",
      "3              19      VIOLATION CLOSED        02/25/2015  \n",
      "4              19      VIOLATION CLOSED        02/10/2015  \n",
      "\n",
      "[5 rows x 31 columns]\n"
     ]
    }
   ],
   "source": [
    "test = pd.read_csv('Violations_2015.csv')\n",
    "print test.head()"
   ]
  },
  {
   "cell_type": "code",
   "execution_count": 28,
   "metadata": {
    "collapsed": false
   },
   "outputs": [
    {
     "name": "stdout",
     "output_type": "stream",
     "text": [
      "['ViolationID', 'BuildingID', 'RegistrationID', 'BoroID', 'Boro', 'HouseNumber', 'LowHouseNumber', 'HighHouseNumber', 'StreetName', 'StreetCode', 'Zip', 'Apartment', 'Story', 'Block', 'Lot', 'Class', 'InspectionDate', 'ApprovedDate', 'OrderNumber', 'NOVID', 'NOVDescription']\n"
     ]
    }
   ],
   "source": [
    "print violations.columns.tolist()"
   ]
  },
  {
   "cell_type": "code",
   "execution_count": 30,
   "metadata": {
    "collapsed": true
   },
   "outputs": [],
   "source": [
    "violations = violations[['ViolationID', 'BuildingID', 'RegistrationID', 'BoroID', 'Boro', 'HouseNumber', 'LowHouseNumber', 'HighHouseNumber', 'StreetName', 'StreetCode', 'Zip', 'Apartment', 'Story', 'Block', 'Lot', 'Class', 'InspectionDate', 'ApprovedDate', 'OrderNumber']]"
   ]
  },
  {
   "cell_type": "code",
   "execution_count": null,
   "metadata": {
    "collapsed": true
   },
   "outputs": [],
   "source": []
  }
 ],
 "metadata": {
  "kernelspec": {
   "display_name": "Python 2",
   "language": "python",
   "name": "python2"
  },
  "language_info": {
   "codemirror_mode": {
    "name": "ipython",
    "version": 2
   },
   "file_extension": ".py",
   "mimetype": "text/x-python",
   "name": "python",
   "nbconvert_exporter": "python",
   "pygments_lexer": "ipython2",
   "version": "2.7.10"
  }
 },
 "nbformat": 4,
 "nbformat_minor": 0
}
